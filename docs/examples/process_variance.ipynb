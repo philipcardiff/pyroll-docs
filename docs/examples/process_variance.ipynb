{
 "cells": [
  {
   "cell_type": "markdown",
   "metadata": {
    "extensions": {
     "jupyter_dashboards": {
      "activeView": "grid_default",
      "views": {
       "grid_default": {
        "col": null,
        "height": 2,
        "hidden": true,
        "locked": true,
        "row": null,
        "width": 2
       }
      }
     }
    }
   },
   "source": [
    "# Rolling Process Variance Estimation Using PyRoll and Monte Carlo Techniques\n",
    "\n",
    "Simulating a rolling process with nominal geometry and material data is useful to get a first guess about the conditions in running the process.\n",
    "In real world however, the process parameters are under some uncertainty.\n",
    "Tolerances of upstream processes influence the behavior of the currently regarded.\n",
    "In conjunction with Monte Carlo (MC) methods PyRoll can be used to estimate such influences.\n",
    "Since by using these methods the simulation must be performed several times, from dozens to hundreds or thousands, computation intensive models can not be used here.\n",
    "\n",
    "This notebook demonstrates the usage of PyRoll in conjunction with Monte Carlo techniques to estimate the influence of deviations in the properties of the initial profile on the process conditions and the properties of the product.\n",
    "The models used a quite basic, but the information content of the results can be improved by far if using more detailed approaches, f.e. for microstructure and elastic plant response."
   ]
  },
  {
   "cell_type": "markdown",
   "metadata": {
    "extensions": {
     "jupyter_dashboards": {
      "activeView": "grid_default",
      "views": {
       "grid_default": {
        "col": null,
        "height": 2,
        "hidden": true,
        "locked": true,
        "row": null,
        "width": 2
       }
      }
     }
    },
    "tags": []
   },
   "source": [
    "## Initialization and Configuration\n",
    "\n",
    "Import the basic configuration with core library and a bunch of plugins."
   ]
  },
  {
   "cell_type": "code",
   "execution_count": 1,
   "metadata": {
    "extensions": {
     "jupyter_dashboards": {
      "activeView": "grid_default",
      "views": {
       "grid_default": {
        "col": null,
        "height": 2,
        "hidden": true,
        "locked": true,
        "row": null,
        "width": 2
       }
      }
     }
    }
   },
   "outputs": [],
   "source": [
    "import pyroll.basic as pr"
   ]
  },
  {
   "cell_type": "markdown",
   "metadata": {
    "extensions": {
     "jupyter_dashboards": {
      "activeView": "grid_default",
      "views": {
       "grid_default": {
        "col": null,
        "height": 2,
        "hidden": true,
        "locked": true,
        "row": null,
        "width": 2
       }
      }
     }
    }
   },
   "source": [
    "Import additional libraries and make some basic configuration."
   ]
  },
  {
   "cell_type": "code",
   "execution_count": 2,
   "metadata": {
    "extensions": {
     "jupyter_dashboards": {
      "activeView": "grid_default",
      "views": {
       "grid_default": {
        "col": null,
        "height": 2,
        "hidden": true,
        "locked": true,
        "row": null,
        "width": 2
       }
      }
     }
    }
   },
   "outputs": [],
   "source": [
    "import matplotlib.pyplot as plt\n",
    "import numpy as np\n",
    "import logging\n",
    "import sys\n",
    "import scipy.stats as stats\n",
    "import pandas as pd\n",
    "\n",
    "logging.basicConfig(stream=sys.stdout, format='[%(levelname)s] %(name)s: %(message)s')\n",
    "logging.getLogger(\"pyroll\").setLevel(logging.WARNING)"
   ]
  },
  {
   "cell_type": "markdown",
   "metadata": {
    "extensions": {
     "jupyter_dashboards": {
      "activeView": "grid_default",
      "views": {
       "grid_default": {
        "col": null,
        "height": 2,
        "hidden": true,
        "locked": true,
        "row": null,
        "width": 2
       }
      }
     }
    }
   },
   "source": [
    "## Define Pass Sequence\n",
    "\n",
    "The Pass Sequence is a shortened variant of the one in the basic notebook for brevity."
   ]
  },
  {
   "cell_type": "code",
   "execution_count": 3,
   "metadata": {
    "extensions": {
     "jupyter_dashboards": {
      "activeView": "grid_default",
      "views": {
       "grid_default": {
        "col": null,
        "height": 2,
        "hidden": true,
        "locked": true,
        "row": null,
        "width": 2
       }
      }
     }
    }
   },
   "outputs": [],
   "source": [
    "mean_roll_radius_1_upper = (328e-3 + 324e-3) / 2 / 2\n",
    "mean_roll_radius_1_lower = (324e-3 + 320e-3) / 2 / 2\n",
    "mean_roll_radius_2_upper = (299e-3 + 297e-3) / 2 / 2\n",
    "mean_roll_radius_2_lower = (297e-3 + 295e-3) / 2 / 2\n",
    "mean_roll_radius_3_upper = (280e-3 + 278e-3) / 2 / 2\n",
    "mean_roll_radius_3_lower = (278e-3 + 276e-3) / 2 / 2\n",
    "transport_duration = 2\n",
    "\n",
    "sequence = pr.PassSequence([\n",
    "    pr.RollPass(\n",
    "        label=\"Diamond I\",\n",
    "        roll=pr.Roll(\n",
    "            groove=pr.DiamondGroove(\n",
    "                usable_width=76.55e-3,\n",
    "                tip_depth=22.1e-3,\n",
    "                r1=12e-3,\n",
    "                r2=8e-3\n",
    "            ),\n",
    "            nominal_radius=mean_roll_radius_1_lower,\n",
    "        ),\n",
    "        velocity=1,\n",
    "        gap=3e-3,\n",
    "    ),\n",
    "    pr.Transport(\n",
    "        duration=transport_duration\n",
    "    ),\n",
    "    pr.RollPass(\n",
    "        label=\"Square II\",\n",
    "        roll=pr.Roll(\n",
    "            groove=pr.SquareGroove(\n",
    "                usable_width=52.7e-3,\n",
    "                tip_depth=25.95e-3,\n",
    "                r1=8e-3,\n",
    "                r2=6e-3\n",
    "            ),\n",
    "            nominal_radius=mean_roll_radius_1_upper,\n",
    "        ),\n",
    "        velocity=1,\n",
    "        gap=3e-3,\n",
    "    ),\n",
    "    pr.Transport(\n",
    "        duration=transport_duration\n",
    "    ),\n",
    "    pr.RollPass(\n",
    "        label=\"Diamond III\",\n",
    "        roll=pr.Roll(\n",
    "            groove=pr.DiamondGroove(\n",
    "                usable_width=58.3e-3,\n",
    "                tip_depth=16.85e-3,\n",
    "                r1=7e-3,\n",
    "                r2=8e-3\n",
    "            ),\n",
    "            nominal_radius=mean_roll_radius_1_lower,\n",
    "        ),\n",
    "        velocity=1,\n",
    "        gap=3e-3,\n",
    "    ),\n",
    "    pr.Transport(\n",
    "        duration=transport_duration\n",
    "    ),\n",
    "    pr.RollPass(\n",
    "        label=\"Square IV\",\n",
    "        roll=pr.Roll(\n",
    "            groove=pr.SquareGroove(\n",
    "                usable_width=40.74e-3,\n",
    "                tip_depth=20.05e-3,\n",
    "                r1=7e-3,\n",
    "                r2=5e-3\n",
    "            ),\n",
    "            nominal_radius=mean_roll_radius_1_upper,\n",
    "        ),\n",
    "        velocity=1,\n",
    "        gap=3e-3,\n",
    "    ),\n",
    "    pr.Transport(\n",
    "        duration=transport_duration\n",
    "    ),\n",
    "    pr.RollPass(\n",
    "        label=\"Oval V\",\n",
    "        roll=pr.Roll(\n",
    "            groove=pr.CircularOvalGroove(\n",
    "                depth=7.25e-3,\n",
    "                r1=6e-3,\n",
    "                r2=44.5e-3\n",
    "            ),\n",
    "            nominal_radius=mean_roll_radius_1_lower,\n",
    "        ),\n",
    "        velocity=1,\n",
    "        gap=3e-3,\n",
    "    ),\n",
    "    pr.Transport(\n",
    "        duration=transport_duration\n",
    "    ),\n",
    "    pr.RollPass(\n",
    "        label=\"Square VI\",\n",
    "        roll=pr.Roll(\n",
    "            groove=pr.SquareGroove(\n",
    "                usable_width=29.64e-3,\n",
    "                tip_depth=14.625e-3,\n",
    "                r1=6e-3,\n",
    "                r2=4e-3\n",
    "            ),\n",
    "            nominal_radius=mean_roll_radius_1_upper,\n",
    "        ),\n",
    "        velocity=1,\n",
    "        gap=3e-3,\n",
    "    ),\n",
    "    pr.Transport(\n",
    "        duration=transport_duration\n",
    "    ),\n",
    "    pr.RollPass(\n",
    "        label=\"Oval VII\",\n",
    "        roll=pr.Roll(\n",
    "            groove=pr.CircularOvalGroove(\n",
    "                depth=5.05e-3,\n",
    "                r1=7e-3,\n",
    "                r2=33e-3\n",
    "            ),\n",
    "            nominal_radius=mean_roll_radius_1_lower,\n",
    "        ),\n",
    "        velocity=1,\n",
    "        gap=3e-3,\n",
    "    ),\n",
    "    pr.Transport(\n",
    "        duration=transport_duration\n",
    "    ),\n",
    "    pr.RollPass(\n",
    "        label=\"Square VIII\",\n",
    "        roll=pr.Roll(\n",
    "            groove=pr.SquareGroove(\n",
    "                usable_width=21.54e-3,\n",
    "                tip_depth=10.6e-3,\n",
    "                r1=5e-3,\n",
    "                r2=3e-3\n",
    "            ),\n",
    "            nominal_radius=mean_roll_radius_1_upper,\n",
    "        ),\n",
    "        velocity=1,\n",
    "        gap=3e-3,\n",
    "    ),\n",
    "    pr.Transport(\n",
    "        duration=transport_duration\n",
    "    ),\n",
    "    pr.RollPass(\n",
    "        label=\"Oval IX\",\n",
    "        roll=pr.Roll(\n",
    "            groove=pr.CircularOvalGroove(\n",
    "                depth=4.43e-3,\n",
    "                r1=6e-3,\n",
    "                r2=25.5e-3\n",
    "            ),\n",
    "            nominal_radius=mean_roll_radius_2_lower,\n",
    "        ),\n",
    "        velocity=1,\n",
    "        gap=1e-3,\n",
    "    ),\n",
    "    pr.Transport(\n",
    "        duration=transport_duration\n",
    "    ),\n",
    "    pr.RollPass(\n",
    "        label=\"Round Xa\",\n",
    "        roll=pr.Roll(\n",
    "            groove=pr.RoundGroove(\n",
    "                r1=2e-3,\n",
    "                r2=15.8e-3 / 2,\n",
    "                depth=7.65e-3\n",
    "            ),\n",
    "            nominal_radius=mean_roll_radius_2_upper,\n",
    "        ),\n",
    "        velocity=1,\n",
    "        gap=0.5e-3,\n",
    "    ),\n",
    "])"
   ]
  },
  {
   "cell_type": "markdown",
   "metadata": {
    "extensions": {
     "jupyter_dashboards": {
      "activeView": "grid_default",
      "views": {
       "grid_default": {
        "col": null,
        "height": 2,
        "hidden": true,
        "locked": true,
        "row": null,
        "width": 2
       }
      }
     }
    }
   },
   "source": [
    "## Define Variational Inputs\n",
    "\n",
    "First we define the distributions of the input variables we want to variate.\n",
    "The `scipy` library provides a bunch of well known distributions that can be used."
   ]
  },
  {
   "cell_type": "code",
   "execution_count": 4,
   "metadata": {
    "extensions": {
     "jupyter_dashboards": {
      "activeView": "grid_default",
      "views": {
       "grid_default": {
        "col": null,
        "height": 2,
        "hidden": true,
        "locked": true,
        "row": null,
        "width": 2
       }
      }
     }
    }
   },
   "outputs": [],
   "source": [
    "temperature_dist = stats.norm(1273, 5)\n",
    "side_dist = stats.norm(45e-3, 0.5e-3)"
   ]
  },
  {
   "cell_type": "markdown",
   "metadata": {
    "extensions": {
     "jupyter_dashboards": {
      "activeView": "grid_default",
      "views": {
       "grid_default": {
        "col": null,
        "height": 2,
        "hidden": true,
        "locked": true,
        "row": null,
        "width": 2
       }
      }
     }
    }
   },
   "source": [
    "From those arrays of sample can be generated to be used as input for different simulation runs."
   ]
  },
  {
   "cell_type": "code",
   "execution_count": 5,
   "metadata": {
    "extensions": {
     "jupyter_dashboards": {
      "activeView": "grid_default",
      "views": {
       "grid_default": {
        "col": null,
        "height": 2,
        "hidden": true,
        "locked": true,
        "row": null,
        "width": 2
       }
      }
     }
    }
   },
   "outputs": [],
   "source": [
    "sample_count = 100\n",
    "\n",
    "temperatures = temperature_dist.rvs(sample_count)\n",
    "sides = side_dist.rvs(sample_count)"
   ]
  },
  {
   "cell_type": "markdown",
   "metadata": {
    "extensions": {
     "jupyter_dashboards": {
      "activeView": "grid_default",
      "views": {
       "grid_default": {
        "col": null,
        "height": 2,
        "hidden": true,
        "locked": true,
        "row": null,
        "width": 2
       }
      }
     }
    }
   },
   "source": [
    "The values can be arranged in a pandas `DataFrame` to keep things together.\n",
    "We prepare the data frame to hold the result values of interest as well, read below why.\n",
    "The frame is multi-indexed to be able to hold values of the distinct units of the sequence.\n",
    "The result columns are filled with `NaN` (Not a Number), which denotes missing data, for now."
   ]
  },
  {
   "cell_type": "code",
   "execution_count": 6,
   "metadata": {
    "extensions": {
     "jupyter_dashboards": {
      "activeView": "grid_default",
      "views": {
       "grid_default": {
        "col": 1,
        "height": 12,
        "hidden": false,
        "locked": true,
        "row": 6,
        "width": 11
       }
      }
     }
    },
    "tags": []
   },
   "outputs": [
    {
     "data": {
      "text/plain": "       initials           roll_force                              ...  \\\n    temperature      side          0   1   2   3   4   5   6   7  ...   \n0   1272.082883  0.045271        NaN NaN NaN NaN NaN NaN NaN NaN  ...   \n1   1285.075180  0.045245        NaN NaN NaN NaN NaN NaN NaN NaN  ...   \n2   1273.388371  0.045088        NaN NaN NaN NaN NaN NaN NaN NaN  ...   \n3   1269.754576  0.045238        NaN NaN NaN NaN NaN NaN NaN NaN  ...   \n4   1282.157012  0.045533        NaN NaN NaN NaN NaN NaN NaN NaN  ...   \n..          ...       ...        ...  ..  ..  ..  ..  ..  ..  ..  ...   \n95  1277.850859  0.044727        NaN NaN NaN NaN NaN NaN NaN NaN  ...   \n96  1268.183292  0.045302        NaN NaN NaN NaN NaN NaN NaN NaN  ...   \n97  1273.411955  0.044846        NaN NaN NaN NaN NaN NaN NaN NaN  ...   \n98  1284.853932  0.045937        NaN NaN NaN NaN NaN NaN NaN NaN  ...   \n99  1270.024944  0.044718        NaN NaN NaN NaN NaN NaN NaN NaN  ...   \n\n   filling_ratio                                      \n               9  10  11  12  13  14  15  16  17  18  \n0            NaN NaN NaN NaN NaN NaN NaN NaN NaN NaN  \n1            NaN NaN NaN NaN NaN NaN NaN NaN NaN NaN  \n2            NaN NaN NaN NaN NaN NaN NaN NaN NaN NaN  \n3            NaN NaN NaN NaN NaN NaN NaN NaN NaN NaN  \n4            NaN NaN NaN NaN NaN NaN NaN NaN NaN NaN  \n..           ...  ..  ..  ..  ..  ..  ..  ..  ..  ..  \n95           NaN NaN NaN NaN NaN NaN NaN NaN NaN NaN  \n96           NaN NaN NaN NaN NaN NaN NaN NaN NaN NaN  \n97           NaN NaN NaN NaN NaN NaN NaN NaN NaN NaN  \n98           NaN NaN NaN NaN NaN NaN NaN NaN NaN NaN  \n99           NaN NaN NaN NaN NaN NaN NaN NaN NaN NaN  \n\n[100 rows x 59 columns]",
      "text/html": "<div>\n<style scoped>\n    .dataframe tbody tr th:only-of-type {\n        vertical-align: middle;\n    }\n\n    .dataframe tbody tr th {\n        vertical-align: top;\n    }\n\n    .dataframe thead tr th {\n        text-align: left;\n    }\n</style>\n<table border=\"1\" class=\"dataframe\">\n  <thead>\n    <tr>\n      <th></th>\n      <th colspan=\"2\" halign=\"left\">initials</th>\n      <th colspan=\"8\" halign=\"left\">roll_force</th>\n      <th>...</th>\n      <th colspan=\"10\" halign=\"left\">filling_ratio</th>\n    </tr>\n    <tr>\n      <th></th>\n      <th>temperature</th>\n      <th>side</th>\n      <th>0</th>\n      <th>1</th>\n      <th>2</th>\n      <th>3</th>\n      <th>4</th>\n      <th>5</th>\n      <th>6</th>\n      <th>7</th>\n      <th>...</th>\n      <th>9</th>\n      <th>10</th>\n      <th>11</th>\n      <th>12</th>\n      <th>13</th>\n      <th>14</th>\n      <th>15</th>\n      <th>16</th>\n      <th>17</th>\n      <th>18</th>\n    </tr>\n  </thead>\n  <tbody>\n    <tr>\n      <th>0</th>\n      <td>1272.082883</td>\n      <td>0.045271</td>\n      <td>NaN</td>\n      <td>NaN</td>\n      <td>NaN</td>\n      <td>NaN</td>\n      <td>NaN</td>\n      <td>NaN</td>\n      <td>NaN</td>\n      <td>NaN</td>\n      <td>...</td>\n      <td>NaN</td>\n      <td>NaN</td>\n      <td>NaN</td>\n      <td>NaN</td>\n      <td>NaN</td>\n      <td>NaN</td>\n      <td>NaN</td>\n      <td>NaN</td>\n      <td>NaN</td>\n      <td>NaN</td>\n    </tr>\n    <tr>\n      <th>1</th>\n      <td>1285.075180</td>\n      <td>0.045245</td>\n      <td>NaN</td>\n      <td>NaN</td>\n      <td>NaN</td>\n      <td>NaN</td>\n      <td>NaN</td>\n      <td>NaN</td>\n      <td>NaN</td>\n      <td>NaN</td>\n      <td>...</td>\n      <td>NaN</td>\n      <td>NaN</td>\n      <td>NaN</td>\n      <td>NaN</td>\n      <td>NaN</td>\n      <td>NaN</td>\n      <td>NaN</td>\n      <td>NaN</td>\n      <td>NaN</td>\n      <td>NaN</td>\n    </tr>\n    <tr>\n      <th>2</th>\n      <td>1273.388371</td>\n      <td>0.045088</td>\n      <td>NaN</td>\n      <td>NaN</td>\n      <td>NaN</td>\n      <td>NaN</td>\n      <td>NaN</td>\n      <td>NaN</td>\n      <td>NaN</td>\n      <td>NaN</td>\n      <td>...</td>\n      <td>NaN</td>\n      <td>NaN</td>\n      <td>NaN</td>\n      <td>NaN</td>\n      <td>NaN</td>\n      <td>NaN</td>\n      <td>NaN</td>\n      <td>NaN</td>\n      <td>NaN</td>\n      <td>NaN</td>\n    </tr>\n    <tr>\n      <th>3</th>\n      <td>1269.754576</td>\n      <td>0.045238</td>\n      <td>NaN</td>\n      <td>NaN</td>\n      <td>NaN</td>\n      <td>NaN</td>\n      <td>NaN</td>\n      <td>NaN</td>\n      <td>NaN</td>\n      <td>NaN</td>\n      <td>...</td>\n      <td>NaN</td>\n      <td>NaN</td>\n      <td>NaN</td>\n      <td>NaN</td>\n      <td>NaN</td>\n      <td>NaN</td>\n      <td>NaN</td>\n      <td>NaN</td>\n      <td>NaN</td>\n      <td>NaN</td>\n    </tr>\n    <tr>\n      <th>4</th>\n      <td>1282.157012</td>\n      <td>0.045533</td>\n      <td>NaN</td>\n      <td>NaN</td>\n      <td>NaN</td>\n      <td>NaN</td>\n      <td>NaN</td>\n      <td>NaN</td>\n      <td>NaN</td>\n      <td>NaN</td>\n      <td>...</td>\n      <td>NaN</td>\n      <td>NaN</td>\n      <td>NaN</td>\n      <td>NaN</td>\n      <td>NaN</td>\n      <td>NaN</td>\n      <td>NaN</td>\n      <td>NaN</td>\n      <td>NaN</td>\n      <td>NaN</td>\n    </tr>\n    <tr>\n      <th>...</th>\n      <td>...</td>\n      <td>...</td>\n      <td>...</td>\n      <td>...</td>\n      <td>...</td>\n      <td>...</td>\n      <td>...</td>\n      <td>...</td>\n      <td>...</td>\n      <td>...</td>\n      <td>...</td>\n      <td>...</td>\n      <td>...</td>\n      <td>...</td>\n      <td>...</td>\n      <td>...</td>\n      <td>...</td>\n      <td>...</td>\n      <td>...</td>\n      <td>...</td>\n      <td>...</td>\n    </tr>\n    <tr>\n      <th>95</th>\n      <td>1277.850859</td>\n      <td>0.044727</td>\n      <td>NaN</td>\n      <td>NaN</td>\n      <td>NaN</td>\n      <td>NaN</td>\n      <td>NaN</td>\n      <td>NaN</td>\n      <td>NaN</td>\n      <td>NaN</td>\n      <td>...</td>\n      <td>NaN</td>\n      <td>NaN</td>\n      <td>NaN</td>\n      <td>NaN</td>\n      <td>NaN</td>\n      <td>NaN</td>\n      <td>NaN</td>\n      <td>NaN</td>\n      <td>NaN</td>\n      <td>NaN</td>\n    </tr>\n    <tr>\n      <th>96</th>\n      <td>1268.183292</td>\n      <td>0.045302</td>\n      <td>NaN</td>\n      <td>NaN</td>\n      <td>NaN</td>\n      <td>NaN</td>\n      <td>NaN</td>\n      <td>NaN</td>\n      <td>NaN</td>\n      <td>NaN</td>\n      <td>...</td>\n      <td>NaN</td>\n      <td>NaN</td>\n      <td>NaN</td>\n      <td>NaN</td>\n      <td>NaN</td>\n      <td>NaN</td>\n      <td>NaN</td>\n      <td>NaN</td>\n      <td>NaN</td>\n      <td>NaN</td>\n    </tr>\n    <tr>\n      <th>97</th>\n      <td>1273.411955</td>\n      <td>0.044846</td>\n      <td>NaN</td>\n      <td>NaN</td>\n      <td>NaN</td>\n      <td>NaN</td>\n      <td>NaN</td>\n      <td>NaN</td>\n      <td>NaN</td>\n      <td>NaN</td>\n      <td>...</td>\n      <td>NaN</td>\n      <td>NaN</td>\n      <td>NaN</td>\n      <td>NaN</td>\n      <td>NaN</td>\n      <td>NaN</td>\n      <td>NaN</td>\n      <td>NaN</td>\n      <td>NaN</td>\n      <td>NaN</td>\n    </tr>\n    <tr>\n      <th>98</th>\n      <td>1284.853932</td>\n      <td>0.045937</td>\n      <td>NaN</td>\n      <td>NaN</td>\n      <td>NaN</td>\n      <td>NaN</td>\n      <td>NaN</td>\n      <td>NaN</td>\n      <td>NaN</td>\n      <td>NaN</td>\n      <td>...</td>\n      <td>NaN</td>\n      <td>NaN</td>\n      <td>NaN</td>\n      <td>NaN</td>\n      <td>NaN</td>\n      <td>NaN</td>\n      <td>NaN</td>\n      <td>NaN</td>\n      <td>NaN</td>\n      <td>NaN</td>\n    </tr>\n    <tr>\n      <th>99</th>\n      <td>1270.024944</td>\n      <td>0.044718</td>\n      <td>NaN</td>\n      <td>NaN</td>\n      <td>NaN</td>\n      <td>NaN</td>\n      <td>NaN</td>\n      <td>NaN</td>\n      <td>NaN</td>\n      <td>NaN</td>\n      <td>...</td>\n      <td>NaN</td>\n      <td>NaN</td>\n      <td>NaN</td>\n      <td>NaN</td>\n      <td>NaN</td>\n      <td>NaN</td>\n      <td>NaN</td>\n      <td>NaN</td>\n      <td>NaN</td>\n      <td>NaN</td>\n    </tr>\n  </tbody>\n</table>\n<p>100 rows × 59 columns</p>\n</div>"
     },
     "metadata": {},
     "output_type": "display_data"
    }
   ],
   "source": [
    "data = pd.DataFrame(\n",
    "    {\n",
    "        (\"initials\", \"temperature\"): temperatures,\n",
    "        (\"initials\", \"side\"): sides,\n",
    "    } | {\n",
    "        (\"roll_force\", i): np.nan for i in range(len(sequence))\n",
    "    } | {\n",
    "        (\"temperature\", i): np.nan for i in range(len(sequence))\n",
    "    } | {\n",
    "        (\"filling_ratio\", i): np.nan for i in range(len(sequence))\n",
    "    }\n",
    ")\n",
    "display(data)"
   ]
  },
  {
   "cell_type": "markdown",
   "metadata": {
    "extensions": {
     "jupyter_dashboards": {
      "activeView": "grid_default",
      "views": {
       "grid_default": {
        "col": null,
        "height": 2,
        "hidden": true,
        "locked": true,
        "row": null,
        "width": 2
       }
      }
     }
    }
   },
   "source": [
    "The remaining fixed properties are encapsulated in a function delivering the actual initial profile objects."
   ]
  },
  {
   "cell_type": "code",
   "execution_count": 7,
   "metadata": {
    "extensions": {
     "jupyter_dashboards": {
      "activeView": "grid_default",
      "views": {
       "grid_default": {
        "col": null,
        "height": 2,
        "hidden": true,
        "locked": true,
        "row": null,
        "width": 2
       }
      }
     }
    }
   },
   "outputs": [],
   "source": [
    "def create_in_profile(temperature: float, side: float) -> pr.Profile:\n",
    "    return pr.Profile.square(\n",
    "        side=side,\n",
    "        corner_radius=3e-3,\n",
    "        temperature=temperature,\n",
    "        strain=0,\n",
    "        material=\"C45\",\n",
    "        density=7.5e3,\n",
    "        thermal_capacity=690,\n",
    "        freiberg_flow_stress_coefficients=pr.FreibergFlowStressCoefficients(\n",
    "            a=3268.49 * 1e6,\n",
    "            m1=-0.00267855,\n",
    "            m2=0.34446,\n",
    "            m4=0.000551814,\n",
    "            m5=-0.00132042,\n",
    "            m7=0.0166334,\n",
    "            m8=0.000149907,\n",
    "            baseStrain=0.1,\n",
    "            baseStrainRate=0.1\n",
    "        )\n",
    "    )"
   ]
  },
  {
   "cell_type": "markdown",
   "metadata": {
    "extensions": {
     "jupyter_dashboards": {
      "activeView": "grid_default",
      "views": {
       "grid_default": {
        "col": null,
        "height": 2,
        "hidden": true,
        "locked": true,
        "row": null,
        "width": 2
       }
      }
     }
    }
   },
   "source": [
    "## Simulate the Distinct Settings\n",
    "\n",
    "Next we build a loop iterating about all sample sets and collecting the results of interest from the sequence.\n",
    "Note, that we must copy the values from the sequence object into the data frame, since the same sequence is used in every run, overwriting the results of the last run.\n",
    "Since all results are expected to be close to each other this helps to save computational effort, as fewer iterations are needed due to close initial values."
   ]
  },
  {
   "cell_type": "code",
   "execution_count": 8,
   "metadata": {
    "collapsed": true,
    "extensions": {
     "jupyter_dashboards": {
      "activeView": "grid_default",
      "views": {
       "grid_default": {
        "col": null,
        "height": 2,
        "hidden": true,
        "locked": true,
        "row": null,
        "width": 2
       }
      }
     }
    },
    "jupyter": {
     "outputs_hidden": true
    },
    "tags": []
   },
   "outputs": [
    {
     "name": "stdout",
     "output_type": "stream",
     "text": [
      "--------------------------------------------------\n",
      "temperature = 1272.08\tside = 4.527e-02\n",
      "--------------------------------------------------\n",
      "--------------------------------------------------\n",
      "temperature = 1285.08\tside = 4.524e-02\n",
      "--------------------------------------------------\n"
     ]
    },
    {
     "name": "stderr",
     "output_type": "stream",
     "text": [
      "/home/maxwe/Git/pyroll-docs/.venv/lib/python3.10/site-packages/pyroll/core/hooks.py:109: ShapelyDeprecationWarning: The array interface is deprecated and will no longer work in Shapely 2.0. Convert the '.coords' to a numpy array instead.\n",
      "  return hook.__get__(instance, owner)\n",
      "/home/maxwe/Git/pyroll-docs/.venv/lib/python3.10/site-packages/pyroll/lendl_equivalent_method/hookimpls.py:21: ShapelyDeprecationWarning: The array interface is deprecated and will no longer work in Shapely 2.0. Convert the '.coords' to a numpy array instead.\n",
      "  for point in self.in_profile.intersections.geoms:\n",
      "/home/maxwe/Git/pyroll-docs/.venv/lib/python3.10/site-packages/pyroll/lendl_equivalent_method/hookimpls.py:49: ShapelyDeprecationWarning: The array interface is deprecated and will no longer work in Shapely 2.0. Convert the '.coords' to a numpy array instead.\n",
      "  return LineString([self.upper_left_intersection_point, self.lower_left_intersection_point])\n",
      "/home/maxwe/Git/pyroll-docs/.venv/lib/python3.10/site-packages/pyroll/lendl_equivalent_method/hookimpls.py:59: ShapelyDeprecationWarning: The array interface is deprecated and will no longer work in Shapely 2.0. Convert the '.coords' to a numpy array instead.\n",
      "  return self.left_lendl_width_boundary.distance(self.right_lendl_width_boundary)\n",
      "/home/maxwe/Git/pyroll-docs/.venv/lib/python3.10/site-packages/pyroll/lendl_equivalent_method/hookimpls.py:54: ShapelyDeprecationWarning: The array interface is deprecated and will no longer work in Shapely 2.0. Convert the '.coords' to a numpy array instead.\n",
      "  return LineString([self.upper_right_intersection_point, self.lower_right_intersection_point])\n",
      "/home/maxwe/Git/pyroll-docs/.venv/lib/python3.10/site-packages/pyroll/core/roll_pass/roll_pass.py:120: ShapelyDeprecationWarning: The array interface is deprecated and will no longer work in Shapely 2.0. Convert the '.coords' to a numpy array instead.\n",
      "  return translate(self.roll.contour_line, yoff=self.gap / 2)\n"
     ]
    },
    {
     "name": "stdout",
     "output_type": "stream",
     "text": [
      "--------------------------------------------------\n",
      "temperature = 1273.39\tside = 4.509e-02\n",
      "--------------------------------------------------\n",
      "--------------------------------------------------\n",
      "temperature = 1269.75\tside = 4.524e-02\n",
      "--------------------------------------------------\n",
      "--------------------------------------------------\n",
      "temperature = 1282.16\tside = 4.553e-02\n",
      "--------------------------------------------------\n",
      "--------------------------------------------------\n",
      "temperature = 1271.21\tside = 4.598e-02\n",
      "--------------------------------------------------\n",
      "--------------------------------------------------\n",
      "temperature = 1269.02\tside = 4.505e-02\n",
      "--------------------------------------------------\n",
      "--------------------------------------------------\n",
      "temperature = 1275.93\tside = 4.559e-02\n",
      "--------------------------------------------------\n",
      "--------------------------------------------------\n",
      "temperature = 1273.45\tside = 4.555e-02\n",
      "--------------------------------------------------\n",
      "--------------------------------------------------\n",
      "temperature = 1269.42\tside = 4.387e-02\n",
      "--------------------------------------------------\n",
      "--------------------------------------------------\n",
      "temperature = 1266.74\tside = 4.464e-02\n",
      "--------------------------------------------------\n",
      "--------------------------------------------------\n",
      "temperature = 1275.64\tside = 4.430e-02\n",
      "--------------------------------------------------\n",
      "--------------------------------------------------\n",
      "temperature = 1277.59\tside = 4.481e-02\n",
      "--------------------------------------------------\n",
      "--------------------------------------------------\n",
      "temperature = 1263.12\tside = 4.488e-02\n",
      "--------------------------------------------------\n",
      "--------------------------------------------------\n",
      "temperature = 1276.72\tside = 4.424e-02\n",
      "--------------------------------------------------\n",
      "--------------------------------------------------\n",
      "temperature = 1267.06\tside = 4.515e-02\n",
      "--------------------------------------------------\n",
      "--------------------------------------------------\n",
      "temperature = 1279.49\tside = 4.570e-02\n",
      "--------------------------------------------------\n",
      "--------------------------------------------------\n",
      "temperature = 1279.91\tside = 4.409e-02\n",
      "--------------------------------------------------\n",
      "--------------------------------------------------\n",
      "temperature = 1270.90\tside = 4.517e-02\n",
      "--------------------------------------------------\n",
      "--------------------------------------------------\n",
      "temperature = 1266.36\tside = 4.504e-02\n",
      "--------------------------------------------------\n",
      "--------------------------------------------------\n",
      "temperature = 1278.76\tside = 4.472e-02\n",
      "--------------------------------------------------\n",
      "--------------------------------------------------\n",
      "temperature = 1270.07\tside = 4.470e-02\n",
      "--------------------------------------------------\n",
      "--------------------------------------------------\n",
      "temperature = 1286.85\tside = 4.569e-02\n",
      "--------------------------------------------------\n",
      "--------------------------------------------------\n",
      "temperature = 1265.70\tside = 4.595e-02\n",
      "--------------------------------------------------\n",
      "--------------------------------------------------\n",
      "temperature = 1281.14\tside = 4.557e-02\n",
      "--------------------------------------------------\n",
      "--------------------------------------------------\n",
      "temperature = 1269.24\tside = 4.495e-02\n",
      "--------------------------------------------------\n",
      "--------------------------------------------------\n",
      "temperature = 1275.65\tside = 4.498e-02\n",
      "--------------------------------------------------\n",
      "--------------------------------------------------\n",
      "temperature = 1272.00\tside = 4.472e-02\n",
      "--------------------------------------------------\n",
      "--------------------------------------------------\n",
      "temperature = 1261.05\tside = 4.523e-02\n",
      "--------------------------------------------------\n",
      "--------------------------------------------------\n",
      "temperature = 1275.78\tside = 4.434e-02\n",
      "--------------------------------------------------\n",
      "--------------------------------------------------\n",
      "temperature = 1277.23\tside = 4.490e-02\n",
      "--------------------------------------------------\n",
      "--------------------------------------------------\n",
      "temperature = 1267.70\tside = 4.492e-02\n",
      "--------------------------------------------------\n",
      "--------------------------------------------------\n",
      "temperature = 1281.58\tside = 4.569e-02\n",
      "--------------------------------------------------\n",
      "--------------------------------------------------\n",
      "temperature = 1276.30\tside = 4.414e-02\n",
      "--------------------------------------------------\n",
      "--------------------------------------------------\n",
      "temperature = 1281.86\tside = 4.439e-02\n",
      "--------------------------------------------------\n",
      "--------------------------------------------------\n",
      "temperature = 1275.68\tside = 4.543e-02\n",
      "--------------------------------------------------\n",
      "--------------------------------------------------\n",
      "temperature = 1271.12\tside = 4.500e-02\n",
      "--------------------------------------------------\n",
      "--------------------------------------------------\n",
      "temperature = 1275.19\tside = 4.344e-02\n",
      "--------------------------------------------------\n",
      "--------------------------------------------------\n",
      "temperature = 1269.45\tside = 4.461e-02\n",
      "--------------------------------------------------\n",
      "--------------------------------------------------\n",
      "temperature = 1275.00\tside = 4.477e-02\n",
      "--------------------------------------------------\n",
      "--------------------------------------------------\n",
      "temperature = 1269.88\tside = 4.456e-02\n",
      "--------------------------------------------------\n",
      "--------------------------------------------------\n",
      "temperature = 1272.94\tside = 4.438e-02\n",
      "--------------------------------------------------\n",
      "--------------------------------------------------\n",
      "temperature = 1267.06\tside = 4.467e-02\n",
      "--------------------------------------------------\n",
      "--------------------------------------------------\n",
      "temperature = 1281.63\tside = 4.554e-02\n",
      "--------------------------------------------------\n",
      "--------------------------------------------------\n",
      "temperature = 1260.91\tside = 4.398e-02\n",
      "--------------------------------------------------\n",
      "--------------------------------------------------\n",
      "temperature = 1268.03\tside = 4.413e-02\n",
      "--------------------------------------------------\n",
      "--------------------------------------------------\n",
      "temperature = 1267.20\tside = 4.529e-02\n",
      "--------------------------------------------------\n",
      "--------------------------------------------------\n",
      "temperature = 1267.96\tside = 4.518e-02\n",
      "--------------------------------------------------\n",
      "--------------------------------------------------\n",
      "temperature = 1272.19\tside = 4.556e-02\n",
      "--------------------------------------------------\n",
      "--------------------------------------------------\n",
      "temperature = 1270.24\tside = 4.466e-02\n",
      "--------------------------------------------------\n",
      "--------------------------------------------------\n",
      "temperature = 1268.14\tside = 4.470e-02\n",
      "--------------------------------------------------\n",
      "--------------------------------------------------\n",
      "temperature = 1269.37\tside = 4.456e-02\n",
      "--------------------------------------------------\n",
      "--------------------------------------------------\n",
      "temperature = 1277.65\tside = 4.470e-02\n",
      "--------------------------------------------------\n",
      "--------------------------------------------------\n",
      "temperature = 1283.25\tside = 4.482e-02\n",
      "--------------------------------------------------\n",
      "--------------------------------------------------\n",
      "temperature = 1270.41\tside = 4.515e-02\n",
      "--------------------------------------------------\n",
      "--------------------------------------------------\n",
      "temperature = 1271.80\tside = 4.514e-02\n",
      "--------------------------------------------------\n",
      "--------------------------------------------------\n",
      "temperature = 1266.30\tside = 4.470e-02\n",
      "--------------------------------------------------\n",
      "--------------------------------------------------\n",
      "temperature = 1272.02\tside = 4.536e-02\n",
      "--------------------------------------------------\n",
      "--------------------------------------------------\n",
      "temperature = 1270.91\tside = 4.563e-02\n",
      "--------------------------------------------------\n",
      "--------------------------------------------------\n",
      "temperature = 1276.01\tside = 4.424e-02\n",
      "--------------------------------------------------\n",
      "--------------------------------------------------\n",
      "temperature = 1273.64\tside = 4.510e-02\n",
      "--------------------------------------------------\n",
      "--------------------------------------------------\n",
      "temperature = 1275.14\tside = 4.505e-02\n",
      "--------------------------------------------------\n",
      "--------------------------------------------------\n",
      "temperature = 1269.91\tside = 4.407e-02\n",
      "--------------------------------------------------\n",
      "--------------------------------------------------\n",
      "temperature = 1270.23\tside = 4.473e-02\n",
      "--------------------------------------------------\n",
      "--------------------------------------------------\n",
      "temperature = 1278.06\tside = 4.485e-02\n",
      "--------------------------------------------------\n",
      "--------------------------------------------------\n",
      "temperature = 1276.04\tside = 4.558e-02\n",
      "--------------------------------------------------\n",
      "--------------------------------------------------\n",
      "temperature = 1271.99\tside = 4.410e-02\n",
      "--------------------------------------------------\n",
      "--------------------------------------------------\n",
      "temperature = 1272.10\tside = 4.495e-02\n",
      "--------------------------------------------------\n",
      "--------------------------------------------------\n",
      "temperature = 1269.86\tside = 4.561e-02\n",
      "--------------------------------------------------\n",
      "--------------------------------------------------\n",
      "temperature = 1273.36\tside = 4.463e-02\n",
      "--------------------------------------------------\n",
      "--------------------------------------------------\n",
      "temperature = 1267.79\tside = 4.503e-02\n",
      "--------------------------------------------------\n",
      "--------------------------------------------------\n",
      "temperature = 1267.58\tside = 4.495e-02\n",
      "--------------------------------------------------\n",
      "--------------------------------------------------\n",
      "temperature = 1279.07\tside = 4.515e-02\n",
      "--------------------------------------------------\n",
      "--------------------------------------------------\n",
      "temperature = 1277.03\tside = 4.518e-02\n",
      "--------------------------------------------------\n",
      "--------------------------------------------------\n",
      "temperature = 1267.18\tside = 4.529e-02\n",
      "--------------------------------------------------\n",
      "--------------------------------------------------\n",
      "temperature = 1272.93\tside = 4.448e-02\n",
      "--------------------------------------------------\n",
      "--------------------------------------------------\n",
      "temperature = 1281.76\tside = 4.510e-02\n",
      "--------------------------------------------------\n",
      "--------------------------------------------------\n",
      "temperature = 1276.99\tside = 4.390e-02\n",
      "--------------------------------------------------\n",
      "--------------------------------------------------\n",
      "temperature = 1272.60\tside = 4.555e-02\n",
      "--------------------------------------------------\n",
      "--------------------------------------------------\n",
      "temperature = 1275.12\tside = 4.472e-02\n",
      "--------------------------------------------------\n",
      "--------------------------------------------------\n",
      "temperature = 1283.57\tside = 4.457e-02\n",
      "--------------------------------------------------\n",
      "--------------------------------------------------\n",
      "temperature = 1270.01\tside = 4.377e-02\n",
      "--------------------------------------------------\n",
      "--------------------------------------------------\n",
      "temperature = 1275.09\tside = 4.579e-02\n",
      "--------------------------------------------------\n",
      "--------------------------------------------------\n",
      "temperature = 1284.37\tside = 4.475e-02\n",
      "--------------------------------------------------\n",
      "--------------------------------------------------\n",
      "temperature = 1275.70\tside = 4.487e-02\n",
      "--------------------------------------------------\n",
      "--------------------------------------------------\n",
      "temperature = 1265.83\tside = 4.514e-02\n",
      "--------------------------------------------------\n",
      "--------------------------------------------------\n",
      "temperature = 1278.77\tside = 4.578e-02\n",
      "--------------------------------------------------\n",
      "--------------------------------------------------\n",
      "temperature = 1264.89\tside = 4.484e-02\n",
      "--------------------------------------------------\n",
      "--------------------------------------------------\n",
      "temperature = 1265.33\tside = 4.410e-02\n",
      "--------------------------------------------------\n",
      "--------------------------------------------------\n",
      "temperature = 1271.42\tside = 4.562e-02\n",
      "--------------------------------------------------\n",
      "--------------------------------------------------\n",
      "temperature = 1275.75\tside = 4.474e-02\n",
      "--------------------------------------------------\n",
      "--------------------------------------------------\n",
      "temperature = 1276.84\tside = 4.415e-02\n",
      "--------------------------------------------------\n",
      "--------------------------------------------------\n",
      "temperature = 1274.00\tside = 4.433e-02\n",
      "--------------------------------------------------\n",
      "--------------------------------------------------\n",
      "temperature = 1275.73\tside = 4.521e-02\n",
      "--------------------------------------------------\n",
      "--------------------------------------------------\n",
      "temperature = 1275.59\tside = 4.501e-02\n",
      "--------------------------------------------------\n",
      "--------------------------------------------------\n",
      "temperature = 1277.85\tside = 4.473e-02\n",
      "--------------------------------------------------\n",
      "--------------------------------------------------\n",
      "temperature = 1268.18\tside = 4.530e-02\n",
      "--------------------------------------------------\n",
      "--------------------------------------------------\n",
      "temperature = 1273.41\tside = 4.485e-02\n",
      "--------------------------------------------------\n",
      "--------------------------------------------------\n",
      "temperature = 1284.85\tside = 4.594e-02\n",
      "--------------------------------------------------\n",
      "--------------------------------------------------\n",
      "temperature = 1270.02\tside = 4.472e-02\n",
      "--------------------------------------------------\n"
     ]
    }
   ],
   "source": [
    "for i in range(len(data)):\n",
    "    temperature = data.initials.temperature[i]\n",
    "    side = data.initials.side[i]\n",
    "\n",
    "    in_profile = create_in_profile(temperature, side)\n",
    "\n",
    "    print(f\"{'-' * 50}\\ntemperature = {temperature:.2f}\\tside = {side:.3e}\\n{'-' * 50}\")\n",
    "\n",
    "    sequence.solve(in_profile)\n",
    "\n",
    "    for j in range(len(sequence)):\n",
    "        data[\"roll_force\", j][i] = getattr(sequence[j], \"roll_force\", np.nan)\n",
    "        data[\"temperature\", j][i] = sequence[j].out_profile.temperature\n",
    "        data[\"filling_ratio\", j][i] = getattr(sequence[j].out_profile, \"filling_ratio\", np.nan)\n",
    "\n"
   ]
  },
  {
   "cell_type": "code",
   "execution_count": 9,
   "metadata": {
    "extensions": {
     "jupyter_dashboards": {
      "activeView": "grid_default",
      "views": {
       "grid_default": {
        "col": null,
        "height": 2,
        "hidden": true,
        "locked": true,
        "row": null,
        "width": 2
       }
      }
     }
    },
    "tags": []
   },
   "outputs": [
    {
     "data": {
      "text/plain": "       initials               roll_force                         \\\n    temperature      side              0   1              2   3   \n0   1272.082883  0.045271  578876.967526 NaN  399146.562358 NaN   \n1   1285.075180  0.045245  559327.022797 NaN  386072.642876 NaN   \n2   1273.388371  0.045088  568956.273198 NaN  393962.004717 NaN   \n3   1269.754576  0.045238  580679.596668 NaN  400724.831514 NaN   \n4   1282.157012  0.045533  575514.701511 NaN  394827.518811 NaN   \n..          ...       ...            ...  ..            ...  ..   \n95  1277.850859  0.044727  546981.268250 NaN  381940.857245 NaN   \n96  1268.183292  0.045302  585796.490706 NaN  403671.341113 NaN   \n97  1273.411955  0.044846  558302.606866 NaN  388725.795692 NaN   \n98  1284.853932  0.045937  588336.757118 NaN  400449.065638 NaN   \n99  1270.024944  0.044718  557259.652942 NaN  389159.509675 NaN   \n\n                                          ... filling_ratio                \\\n                4   5              6   7  ...             9        10  11   \n0   491055.843148 NaN  341283.963556 NaN  ...           NaN  0.773250 NaN   \n1   475727.011642 NaN  331329.733491 NaN  ...           NaN  0.773212 NaN   \n2   488882.270243 NaN  340378.760504 NaN  ...           NaN  0.773248 NaN   \n3   493734.505597 NaN  343128.121496 NaN  ...           NaN  0.773260 NaN   \n4   480058.071580 NaN  333389.084878 NaN  ...           NaN  0.773223 NaN   \n..            ...  ..            ...  ..  ...           ...       ...  ..   \n95  482326.759854 NaN  337121.264524 NaN  ...           NaN  0.773233 NaN   \n96  495841.963711 NaN  344322.112703 NaN  ...           NaN  0.773266 NaN   \n97  487998.963865 NaN  340496.563934 NaN  ...           NaN  0.773247 NaN   \n98  478185.896132 NaN  331125.996904 NaN  ...           NaN  0.773216 NaN   \n99  491566.473203 NaN  343216.829364 NaN  ...           NaN  0.773257 NaN   \n\n                                                        \n          12  13        14  15        16  17        18  \n0   0.871667 NaN  0.798782 NaN  0.814326 NaN  0.787873  \n1   0.871600 NaN  0.798737 NaN  0.814260 NaN  0.787829  \n2   0.871661 NaN  0.798780 NaN  0.814321 NaN  0.787873  \n3   0.871680 NaN  0.798793 NaN  0.814339 NaN  0.787886  \n4   0.871614 NaN  0.798747 NaN  0.814273 NaN  0.787838  \n..       ...  ..       ...  ..       ...  ..       ...  \n95  0.871639 NaN  0.798765 NaN  0.814300 NaN  0.787858  \n96  0.871688 NaN  0.798799 NaN  0.814347 NaN  0.787892  \n97  0.871662 NaN  0.798781 NaN  0.814323 NaN  0.787874  \n98  0.871599 NaN  0.798736 NaN  0.814257 NaN  0.787827  \n99  0.871680 NaN  0.798794 NaN  0.814341 NaN  0.787887  \n\n[100 rows x 59 columns]",
      "text/html": "<div>\n<style scoped>\n    .dataframe tbody tr th:only-of-type {\n        vertical-align: middle;\n    }\n\n    .dataframe tbody tr th {\n        vertical-align: top;\n    }\n\n    .dataframe thead tr th {\n        text-align: left;\n    }\n</style>\n<table border=\"1\" class=\"dataframe\">\n  <thead>\n    <tr>\n      <th></th>\n      <th colspan=\"2\" halign=\"left\">initials</th>\n      <th colspan=\"8\" halign=\"left\">roll_force</th>\n      <th>...</th>\n      <th colspan=\"10\" halign=\"left\">filling_ratio</th>\n    </tr>\n    <tr>\n      <th></th>\n      <th>temperature</th>\n      <th>side</th>\n      <th>0</th>\n      <th>1</th>\n      <th>2</th>\n      <th>3</th>\n      <th>4</th>\n      <th>5</th>\n      <th>6</th>\n      <th>7</th>\n      <th>...</th>\n      <th>9</th>\n      <th>10</th>\n      <th>11</th>\n      <th>12</th>\n      <th>13</th>\n      <th>14</th>\n      <th>15</th>\n      <th>16</th>\n      <th>17</th>\n      <th>18</th>\n    </tr>\n  </thead>\n  <tbody>\n    <tr>\n      <th>0</th>\n      <td>1272.082883</td>\n      <td>0.045271</td>\n      <td>578876.967526</td>\n      <td>NaN</td>\n      <td>399146.562358</td>\n      <td>NaN</td>\n      <td>491055.843148</td>\n      <td>NaN</td>\n      <td>341283.963556</td>\n      <td>NaN</td>\n      <td>...</td>\n      <td>NaN</td>\n      <td>0.773250</td>\n      <td>NaN</td>\n      <td>0.871667</td>\n      <td>NaN</td>\n      <td>0.798782</td>\n      <td>NaN</td>\n      <td>0.814326</td>\n      <td>NaN</td>\n      <td>0.787873</td>\n    </tr>\n    <tr>\n      <th>1</th>\n      <td>1285.075180</td>\n      <td>0.045245</td>\n      <td>559327.022797</td>\n      <td>NaN</td>\n      <td>386072.642876</td>\n      <td>NaN</td>\n      <td>475727.011642</td>\n      <td>NaN</td>\n      <td>331329.733491</td>\n      <td>NaN</td>\n      <td>...</td>\n      <td>NaN</td>\n      <td>0.773212</td>\n      <td>NaN</td>\n      <td>0.871600</td>\n      <td>NaN</td>\n      <td>0.798737</td>\n      <td>NaN</td>\n      <td>0.814260</td>\n      <td>NaN</td>\n      <td>0.787829</td>\n    </tr>\n    <tr>\n      <th>2</th>\n      <td>1273.388371</td>\n      <td>0.045088</td>\n      <td>568956.273198</td>\n      <td>NaN</td>\n      <td>393962.004717</td>\n      <td>NaN</td>\n      <td>488882.270243</td>\n      <td>NaN</td>\n      <td>340378.760504</td>\n      <td>NaN</td>\n      <td>...</td>\n      <td>NaN</td>\n      <td>0.773248</td>\n      <td>NaN</td>\n      <td>0.871661</td>\n      <td>NaN</td>\n      <td>0.798780</td>\n      <td>NaN</td>\n      <td>0.814321</td>\n      <td>NaN</td>\n      <td>0.787873</td>\n    </tr>\n    <tr>\n      <th>3</th>\n      <td>1269.754576</td>\n      <td>0.045238</td>\n      <td>580679.596668</td>\n      <td>NaN</td>\n      <td>400724.831514</td>\n      <td>NaN</td>\n      <td>493734.505597</td>\n      <td>NaN</td>\n      <td>343128.121496</td>\n      <td>NaN</td>\n      <td>...</td>\n      <td>NaN</td>\n      <td>0.773260</td>\n      <td>NaN</td>\n      <td>0.871680</td>\n      <td>NaN</td>\n      <td>0.798793</td>\n      <td>NaN</td>\n      <td>0.814339</td>\n      <td>NaN</td>\n      <td>0.787886</td>\n    </tr>\n    <tr>\n      <th>4</th>\n      <td>1282.157012</td>\n      <td>0.045533</td>\n      <td>575514.701511</td>\n      <td>NaN</td>\n      <td>394827.518811</td>\n      <td>NaN</td>\n      <td>480058.071580</td>\n      <td>NaN</td>\n      <td>333389.084878</td>\n      <td>NaN</td>\n      <td>...</td>\n      <td>NaN</td>\n      <td>0.773223</td>\n      <td>NaN</td>\n      <td>0.871614</td>\n      <td>NaN</td>\n      <td>0.798747</td>\n      <td>NaN</td>\n      <td>0.814273</td>\n      <td>NaN</td>\n      <td>0.787838</td>\n    </tr>\n    <tr>\n      <th>...</th>\n      <td>...</td>\n      <td>...</td>\n      <td>...</td>\n      <td>...</td>\n      <td>...</td>\n      <td>...</td>\n      <td>...</td>\n      <td>...</td>\n      <td>...</td>\n      <td>...</td>\n      <td>...</td>\n      <td>...</td>\n      <td>...</td>\n      <td>...</td>\n      <td>...</td>\n      <td>...</td>\n      <td>...</td>\n      <td>...</td>\n      <td>...</td>\n      <td>...</td>\n      <td>...</td>\n    </tr>\n    <tr>\n      <th>95</th>\n      <td>1277.850859</td>\n      <td>0.044727</td>\n      <td>546981.268250</td>\n      <td>NaN</td>\n      <td>381940.857245</td>\n      <td>NaN</td>\n      <td>482326.759854</td>\n      <td>NaN</td>\n      <td>337121.264524</td>\n      <td>NaN</td>\n      <td>...</td>\n      <td>NaN</td>\n      <td>0.773233</td>\n      <td>NaN</td>\n      <td>0.871639</td>\n      <td>NaN</td>\n      <td>0.798765</td>\n      <td>NaN</td>\n      <td>0.814300</td>\n      <td>NaN</td>\n      <td>0.787858</td>\n    </tr>\n    <tr>\n      <th>96</th>\n      <td>1268.183292</td>\n      <td>0.045302</td>\n      <td>585796.490706</td>\n      <td>NaN</td>\n      <td>403671.341113</td>\n      <td>NaN</td>\n      <td>495841.963711</td>\n      <td>NaN</td>\n      <td>344322.112703</td>\n      <td>NaN</td>\n      <td>...</td>\n      <td>NaN</td>\n      <td>0.773266</td>\n      <td>NaN</td>\n      <td>0.871688</td>\n      <td>NaN</td>\n      <td>0.798799</td>\n      <td>NaN</td>\n      <td>0.814347</td>\n      <td>NaN</td>\n      <td>0.787892</td>\n    </tr>\n    <tr>\n      <th>97</th>\n      <td>1273.411955</td>\n      <td>0.044846</td>\n      <td>558302.606866</td>\n      <td>NaN</td>\n      <td>388725.795692</td>\n      <td>NaN</td>\n      <td>487998.963865</td>\n      <td>NaN</td>\n      <td>340496.563934</td>\n      <td>NaN</td>\n      <td>...</td>\n      <td>NaN</td>\n      <td>0.773247</td>\n      <td>NaN</td>\n      <td>0.871662</td>\n      <td>NaN</td>\n      <td>0.798781</td>\n      <td>NaN</td>\n      <td>0.814323</td>\n      <td>NaN</td>\n      <td>0.787874</td>\n    </tr>\n    <tr>\n      <th>98</th>\n      <td>1284.853932</td>\n      <td>0.045937</td>\n      <td>588336.757118</td>\n      <td>NaN</td>\n      <td>400449.065638</td>\n      <td>NaN</td>\n      <td>478185.896132</td>\n      <td>NaN</td>\n      <td>331125.996904</td>\n      <td>NaN</td>\n      <td>...</td>\n      <td>NaN</td>\n      <td>0.773216</td>\n      <td>NaN</td>\n      <td>0.871599</td>\n      <td>NaN</td>\n      <td>0.798736</td>\n      <td>NaN</td>\n      <td>0.814257</td>\n      <td>NaN</td>\n      <td>0.787827</td>\n    </tr>\n    <tr>\n      <th>99</th>\n      <td>1270.024944</td>\n      <td>0.044718</td>\n      <td>557259.652942</td>\n      <td>NaN</td>\n      <td>389159.509675</td>\n      <td>NaN</td>\n      <td>491566.473203</td>\n      <td>NaN</td>\n      <td>343216.829364</td>\n      <td>NaN</td>\n      <td>...</td>\n      <td>NaN</td>\n      <td>0.773257</td>\n      <td>NaN</td>\n      <td>0.871680</td>\n      <td>NaN</td>\n      <td>0.798794</td>\n      <td>NaN</td>\n      <td>0.814341</td>\n      <td>NaN</td>\n      <td>0.787887</td>\n    </tr>\n  </tbody>\n</table>\n<p>100 rows × 59 columns</p>\n</div>"
     },
     "execution_count": 9,
     "metadata": {},
     "output_type": "execute_result"
    }
   ],
   "source": [
    "data"
   ]
  },
  {
   "cell_type": "markdown",
   "metadata": {
    "extensions": {
     "jupyter_dashboards": {
      "activeView": "grid_default",
      "views": {
       "grid_default": {
        "col": null,
        "height": 2,
        "hidden": true,
        "locked": true,
        "row": null,
        "width": 2
       }
      }
     }
    }
   },
   "source": [
    "## Analysing the Results\n",
    "\n",
    "We may visualizes the results using box plots."
   ]
  },
  {
   "cell_type": "code",
   "execution_count": 22,
   "metadata": {
    "extensions": {
     "jupyter_dashboards": {
      "activeView": "grid_default",
      "views": {
       "grid_default": {
        "col": null,
        "height": 2,
        "hidden": true,
        "locked": true,
        "row": null,
        "width": 2
       }
      }
     }
    }
   },
   "outputs": [
    {
     "data": {
      "text/plain": "<Figure size 640x480 with 1 Axes>",
      "image/png": "[encoded data removed]"
     },
     "metadata": {},
     "output_type": "display_data"
    }
   ],
   "source": [
    "fig: plt.Figure = plt.figure()\n",
    "ax: plt.Axes = fig.add_subplot()\n",
    "\n",
    "ax.set_title(r\"Roll Force Distributions\")\n",
    "ax.set_xlabel(\"Index of Unit\")\n",
    "ax.set_ylabel(\"Roll Force in N\")\n",
    "ax.grid(True)\n",
    "\n",
    "ax.boxplot(data.roll_force);"
   ]
  },
  {
   "cell_type": "code",
   "execution_count": 20,
   "metadata": {
    "extensions": {
     "jupyter_dashboards": {
      "activeView": "grid_default",
      "views": {
       "grid_default": {
        "col": null,
        "height": 2,
        "hidden": true,
        "locked": true,
        "row": null,
        "width": 2
       }
      }
     }
    }
   },
   "outputs": [
    {
     "data": {
      "text/plain": "<Figure size 640x480 with 1 Axes>",
      "image/png": "[encoded data removed]"
     },
     "metadata": {},
     "output_type": "display_data"
    }
   ],
   "source": [
    "fig: plt.Figure = plt.figure()\n",
    "ax: plt.Axes = fig.add_subplot()\n",
    "\n",
    "ax.set_title(r\"Temperature Distributions\")\n",
    "ax.set_xlabel(\"Index of Unit\")\n",
    "ax.set_ylabel(\"Workpiece Temperature in K\")\n",
    "ax.grid(True)\n",
    "\n",
    "ax.boxplot(data.temperature);"
   ]
  },
  {
   "cell_type": "code",
   "execution_count": 19,
   "metadata": {
    "extensions": {
     "jupyter_dashboards": {
      "activeView": "grid_default",
      "views": {
       "grid_default": {
        "col": null,
        "height": 2,
        "hidden": true,
        "locked": true,
        "row": null,
        "width": 2
       }
      }
     }
    }
   },
   "outputs": [
    {
     "data": {
      "text/plain": "<Figure size 640x480 with 1 Axes>",
      "image/png": "[encoded data removed]"
     },
     "metadata": {},
     "output_type": "display_data"
    }
   ],
   "source": [
    "fig: plt.Figure = plt.figure()\n",
    "ax: plt.Axes = fig.add_subplot()\n",
    "\n",
    "ax.set_title(r\"Filling Distributions\")\n",
    "ax.set_xlabel(\"Index of Unit\")\n",
    "ax.set_ylabel(\"Filling Ratio\")\n",
    "ax.grid(True)\n",
    "\n",
    "ax.boxplot(data.filling_ratio);"
   ]
  },
  {
   "cell_type": "markdown",
   "metadata": {
    "extensions": {
     "jupyter_dashboards": {
      "activeView": "grid_default",
      "views": {
       "grid_default": {
        "col": null,
        "height": 2,
        "hidden": true,
        "locked": true,
        "row": null,
        "width": 2
       }
      }
     }
    }
   },
   "source": [
    "As we see the variations decrease along the sequence.\n",
    "Especially for the filling ratio, the result is almost independent of the tolerances in the initial profile."
   ]
  }
 ],
 "metadata": {
  "extensions": {
   "jupyter_dashboards": {
    "activeView": "grid_default",
    "version": 1,
    "views": {
     "grid_default": {
      "cellMargin": 2,
      "defaultCellHeight": 40,
      "maxColumns": 12,
      "name": "grid",
      "type": "grid"
     }
    }
   }
  },
  "kernelspec": {
   "display_name": "Python 3 (ipykernel)",
   "language": "python",
   "name": "python3"
  },
  "language_info": {
   "codemirror_mode": {
    "name": "ipython",
    "version": 3
   },
   "file_extension": ".py",
   "mimetype": "text/x-python",
   "name": "python",
   "nbconvert_exporter": "python",
   "pygments_lexer": "ipython3",
   "version": "3.10.5"
  }
 },
 "nbformat": 4,
 "nbformat_minor": 4
}
